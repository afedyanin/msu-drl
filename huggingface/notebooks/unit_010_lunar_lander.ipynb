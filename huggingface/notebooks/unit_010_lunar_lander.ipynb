{
 "cells": [
  {
   "cell_type": "code",
   "id": "initial_id",
   "metadata": {
    "collapsed": true,
    "ExecuteTime": {
     "end_time": "2025-01-18T22:10:54.686496Z",
     "start_time": "2025-01-18T22:10:54.682970Z"
    }
   },
   "source": [
    "import gymnasium as gym\n",
    "\n",
    "from huggingface_sb3 import load_from_hub, package_to_hub\n",
    "from huggingface_hub import (\n",
    "    notebook_login,\n",
    ")  # To log to our Hugging Face account to be able to upload models to the Hub.\n",
    "\n",
    "from stable_baselines3 import PPO\n",
    "from stable_baselines3.common.env_util import make_vec_env\n",
    "from stable_baselines3.common.evaluation import evaluate_policy\n",
    "from stable_baselines3.common.monitor import Monitor"
   ],
   "outputs": [],
   "execution_count": 14
  },
  {
   "metadata": {
    "ExecuteTime": {
     "end_time": "2025-01-18T22:40:42.957692Z",
     "start_time": "2025-01-18T22:40:42.949694Z"
    }
   },
   "cell_type": "code",
   "source": [
    "# First, we create our environment called LunarLander-v2\n",
    "# https://gymnasium.farama.org/environments/box2d/lunar_lander/\n",
    "env = gym.make(\"LunarLander-v2\")\n",
    "\n",
    "#model = PPO(\n",
    "#    policy=\"MlpPolicy\",\n",
    "#    env=env,\n",
    "#    n_steps=1024,\n",
    "#    batch_size=64,\n",
    "#    n_epochs=4,\n",
    "#    gamma=0.999,\n",
    "#    gae_lambda=0.98,\n",
    "#    ent_coef=0.01,\n",
    "#    verbose=0,\n",
    "#    tensorboard_log=\"./logs\",\n",
    "#)\n",
    "model = PPO(\n",
    "    policy=\"MlpPolicy\",\n",
    "    env=env,\n",
    "    verbose=0,\n",
    "    tensorboard_log=\"./logs\",\n",
    ")\n"
   ],
   "id": "56d97a028f0d3cff",
   "outputs": [],
   "execution_count": 19
  },
  {
   "metadata": {
    "ExecuteTime": {
     "end_time": "2025-01-18T22:54:13.916955Z",
     "start_time": "2025-01-18T22:40:44.434540Z"
    }
   },
   "cell_type": "code",
   "source": [
    "model.learn(total_timesteps=600000)\n",
    "# Save the model\n",
    "model_name = \"ppo-LunarLander-v2\"\n",
    "model.save(model_name)\n",
    "\n",
    "#env.close()"
   ],
   "id": "ca2bb18b81c57f80",
   "outputs": [],
   "execution_count": 20
  },
  {
   "metadata": {
    "ExecuteTime": {
     "end_time": "2025-01-18T22:54:21.858879Z",
     "start_time": "2025-01-18T22:54:20.230449Z"
    }
   },
   "cell_type": "code",
   "source": [
    "eval_env = Monitor(gym.make(\"LunarLander-v2\"))\n",
    "mean_reward, std_reward = evaluate_policy(model, eval_env, n_eval_episodes=10, deterministic=True)\n",
    "print(f\"mean_reward={mean_reward:.2f} +/- {std_reward}\")\n",
    "\n"
   ],
   "id": "d3109b231dfff3c7",
   "outputs": [
    {
     "name": "stdout",
     "output_type": "stream",
     "text": [
      "mean_reward=260.54 +/- 20.110828860887697\n"
     ]
    }
   ],
   "execution_count": 21
  },
  {
   "metadata": {
    "ExecuteTime": {
     "end_time": "2025-01-18T18:30:25.856707Z",
     "start_time": "2025-01-18T18:30:25.791057Z"
    }
   },
   "cell_type": "code",
   "source": [
    "notebook_login()\n",
    "!git config --global credential.helper store"
   ],
   "id": "7a5e109dc02f003",
   "outputs": [
    {
     "data": {
      "text/plain": [
       "VBox(children=(HTML(value='<center> <img\\nsrc=https://huggingface.co/front/assets/huggingface_logo-noborder.sv…"
      ],
      "application/vnd.jupyter.widget-view+json": {
       "version_major": 2,
       "version_minor": 0,
       "model_id": "1f8594b340724307a90c26e8281111af"
      }
     },
     "metadata": {},
     "output_type": "display_data"
    }
   ],
   "execution_count": 9
  },
  {
   "metadata": {
    "ExecuteTime": {
     "end_time": "2025-01-18T22:54:48.041052Z",
     "start_time": "2025-01-18T22:54:38.338342Z"
    }
   },
   "cell_type": "code",
   "source": [
    "import gymnasium as gym\n",
    "\n",
    "from stable_baselines3 import PPO\n",
    "from stable_baselines3.common.vec_env import DummyVecEnv\n",
    "from stable_baselines3.common.env_util import make_vec_env\n",
    "\n",
    "from huggingface_sb3 import package_to_hub\n",
    "\n",
    "# PLACE the variables you've just defined two cells above\n",
    "# Define the name of the environment\n",
    "env_id = \"LunarLander-v2\"\n",
    "\n",
    "# TODO: Define the model architecture we used\n",
    "model_architecture = \"PPO\"\n",
    "\n",
    "## Define a repo_id\n",
    "## repo_id is the id of the model repository from the Hugging Face Hub (repo_id = {organization}/{repo_name} for instance ThomasSimonini/ppo-LunarLander-v2\n",
    "## CHANGE WITH YOUR REPO ID\n",
    "repo_id = \"afedyanin/ppo-LunarLander-v2\"  # Change with your repo id, you can't push with mine 😄\n",
    "\n",
    "## Define the commit message\n",
    "commit_message = \"Upload PPO LunarLander-v2 trained agent\"\n",
    "\n",
    "# Create the evaluation env and set the render_mode=\"rgb_array\"\n",
    "eval_env = DummyVecEnv([lambda: Monitor(gym.make(env_id, render_mode=\"rgb_array\"))])\n",
    "\n",
    "# PLACE the package_to_hub function you've just filled here\n",
    "package_to_hub(\n",
    "    model=model,  # Our trained model\n",
    "    model_name=model_name,  # The name of our trained model\n",
    "    model_architecture=model_architecture,  # The model architecture we used: in our case PPO\n",
    "    env_id=env_id,  # Name of the environment\n",
    "    eval_env=eval_env,  # Evaluation Environment\n",
    "    repo_id=repo_id,  # id of the model repository from the Hugging Face Hub (repo_id = {organization}/{repo_name} for instance ThomasSimonini/ppo-LunarLander-v2\n",
    "    commit_message=commit_message,\n",
    ")"
   ],
   "id": "7c4eb90aacdede30",
   "outputs": [
    {
     "name": "stdout",
     "output_type": "stream",
     "text": [
      "\u001B[38;5;4mℹ This function will save, evaluate, generate a video of your agent,\n",
      "create a model card and push everything to the hub. It might take up to 1min.\n",
      "This is a work in progress: if you encounter a bug, please open an issue.\u001B[0m\n",
      "Saving video to C:\\Users\\A\\AppData\\Local\\Temp\\tmpii8aigdm\\-step-0-to-step-1000.mp4\n",
      "MoviePy - Building video C:\\Users\\A\\AppData\\Local\\Temp\\tmpii8aigdm\\-step-0-to-step-1000.mp4.\n",
      "MoviePy - Writing video C:\\Users\\A\\AppData\\Local\\Temp\\tmpii8aigdm\\-step-0-to-step-1000.mp4\n",
      "\n"
     ]
    },
    {
     "name": "stderr",
     "output_type": "stream",
     "text": [
      "                                                                           \r"
     ]
    },
    {
     "name": "stdout",
     "output_type": "stream",
     "text": [
      "MoviePy - Done !\n",
      "MoviePy - video ready C:\\Users\\A\\AppData\\Local\\Temp\\tmpii8aigdm\\-step-0-to-step-1000.mp4\n",
      "\u001B[38;5;4mℹ Pushing repo afedyanin/ppo-LunarLander-v2 to the Hugging Face Hub\u001B[0m\n"
     ]
    },
    {
     "data": {
      "text/plain": [
       "Upload 3 LFS files:   0%|          | 0/3 [00:00<?, ?it/s]"
      ],
      "application/vnd.jupyter.widget-view+json": {
       "version_major": 2,
       "version_minor": 0,
       "model_id": "e776721aa77e4493b9a8ca2e99b98b58"
      }
     },
     "metadata": {},
     "output_type": "display_data"
    },
    {
     "data": {
      "text/plain": [
       "policy.pth:   0%|          | 0.00/43.8k [00:00<?, ?B/s]"
      ],
      "application/vnd.jupyter.widget-view+json": {
       "version_major": 2,
       "version_minor": 0,
       "model_id": "37dcd0ca34fb472b942aef925dafddde"
      }
     },
     "metadata": {},
     "output_type": "display_data"
    },
    {
     "data": {
      "text/plain": [
       "policy.optimizer.pth:   0%|          | 0.00/88.4k [00:00<?, ?B/s]"
      ],
      "application/vnd.jupyter.widget-view+json": {
       "version_major": 2,
       "version_minor": 0,
       "model_id": "a2a8ef651aee482ca74ac8bf2c730545"
      }
     },
     "metadata": {},
     "output_type": "display_data"
    },
    {
     "data": {
      "text/plain": [
       "ppo-LunarLander-v2.zip:   0%|          | 0.00/150k [00:00<?, ?B/s]"
      ],
      "application/vnd.jupyter.widget-view+json": {
       "version_major": 2,
       "version_minor": 0,
       "model_id": "7b8f29dd24464271ba21fe4601f15334"
      }
     },
     "metadata": {},
     "output_type": "display_data"
    },
    {
     "name": "stdout",
     "output_type": "stream",
     "text": [
      "\u001B[38;5;4mℹ Your model is pushed to the Hub. You can view your model here:\n",
      "https://huggingface.co/afedyanin/ppo-LunarLander-v2/tree/main/\u001B[0m\n"
     ]
    },
    {
     "data": {
      "text/plain": [
       "CommitInfo(commit_url='https://huggingface.co/afedyanin/ppo-LunarLander-v2/commit/16507cb962e14d24ec5561ca25b77002be48d9ae', commit_message='Upload PPO LunarLander-v2 trained agent', commit_description='', oid='16507cb962e14d24ec5561ca25b77002be48d9ae', pr_url=None, pr_revision=None, pr_num=None)"
      ]
     },
     "execution_count": 22,
     "metadata": {},
     "output_type": "execute_result"
    }
   ],
   "execution_count": 22
  },
  {
   "metadata": {
    "ExecuteTime": {
     "end_time": "2025-01-18T18:39:14.593799Z",
     "start_time": "2025-01-18T18:39:13.448498Z"
    }
   },
   "cell_type": "code",
   "source": [
    "# Load model\n",
    "\n",
    "from huggingface_sb3 import load_from_hub\n",
    "\n",
    "repo_id = \"afedyanin/ppo-LunarLander-v2\"  # The repo_id\n",
    "filename = \"ppo-LunarLander-v2.zip\"  # The model filename.zip\n",
    "\n",
    "# When the model was trained on Python 3.8 the pickle protocol is 5\n",
    "# But Python 3.6, 3.7 use protocol 4\n",
    "# In order to get compatibility we need to:\n",
    "# 1. Install pickle5 (we done it at the beginning of the colab)\n",
    "# 2. Create a custom empty object we pass as parameter to PPO.load()\n",
    "custom_objects = {\n",
    "    \"learning_rate\": 0.0,\n",
    "    \"lr_schedule\": lambda _: 0.0,\n",
    "    \"clip_range\": lambda _: 0.0,\n",
    "}\n",
    "\n",
    "checkpoint = load_from_hub(repo_id, filename)\n",
    "model = PPO.load(checkpoint, custom_objects=custom_objects, print_system_info=True)"
   ],
   "id": "9c62ea5cd564f9a2",
   "outputs": [
    {
     "data": {
      "text/plain": [
       "ppo-LunarLander-v2.zip:   0%|          | 0.00/150k [00:00<?, ?B/s]"
      ],
      "application/vnd.jupyter.widget-view+json": {
       "version_major": 2,
       "version_minor": 0,
       "model_id": "1acd08ba2f9343e7a696ef73d5add717"
      }
     },
     "metadata": {},
     "output_type": "display_data"
    },
    {
     "name": "stdout",
     "output_type": "stream",
     "text": [
      "== CURRENT SYSTEM INFO ==\n",
      "- OS: Windows-10-10.0.19045-SP0 10.0.19045\n",
      "- Python: 3.12.4\n",
      "- Stable-Baselines3: 2.4.0a7\n",
      "- PyTorch: 2.4.1+cu124\n",
      "- GPU Enabled: True\n",
      "- Numpy: 1.26.4\n",
      "- Cloudpickle: 3.0.0\n",
      "- Gymnasium: 0.29.1\n",
      "- OpenAI Gym: 0.26.2\n",
      "\n",
      "== SAVED MODEL SYSTEM INFO ==\n",
      "- OS: Windows-10-10.0.19045-SP0 10.0.19045\n",
      "- Python: 3.12.4\n",
      "- Stable-Baselines3: 2.4.0a7\n",
      "- PyTorch: 2.4.1+cu124\n",
      "- GPU Enabled: True\n",
      "- Numpy: 1.26.4\n",
      "- Cloudpickle: 3.0.0\n",
      "- Gymnasium: 0.29.1\n",
      "- OpenAI Gym: 0.26.2\n",
      "\n"
     ]
    },
    {
     "name": "stderr",
     "output_type": "stream",
     "text": [
      "C:\\envs\\msu\\Lib\\site-packages\\huggingface_hub\\file_download.py:159: UserWarning: `huggingface_hub` cache-system uses symlinks by default to efficiently store duplicated files but your machine does not support them in C:\\Users\\A\\.cache\\huggingface\\hub\\models--afedyanin--ppo-LunarLander-v2. Caching files will still work but in a degraded version that might require more space on your disk. This warning can be disabled by setting the `HF_HUB_DISABLE_SYMLINKS_WARNING` environment variable. For more details, see https://huggingface.co/docs/huggingface_hub/how-to-cache#limitations.\n",
      "To support symlinks on Windows, you either need to activate Developer Mode or to run Python as an administrator. In order to see activate developer mode, see this article: https://docs.microsoft.com/en-us/windows/apps/get-started/enable-your-device-for-development\n",
      "  warnings.warn(message)\n"
     ]
    }
   ],
   "execution_count": 12
  },
  {
   "metadata": {
    "ExecuteTime": {
     "end_time": "2025-01-18T18:39:40.018232Z",
     "start_time": "2025-01-18T18:39:37.403303Z"
    }
   },
   "cell_type": "code",
   "source": [
    "eval_env = Monitor(gym.make(\"LunarLander-v2\"))\n",
    "mean_reward, std_reward = evaluate_policy(model, eval_env, n_eval_episodes=10, deterministic=True)\n",
    "print(f\"mean_reward={mean_reward:.2f} +/- {std_reward}\")\n"
   ],
   "id": "691ea68beffb1506",
   "outputs": [
    {
     "name": "stdout",
     "output_type": "stream",
     "text": [
      "mean_reward=236.60 +/- 41.31685873178319\n"
     ]
    }
   ],
   "execution_count": 13
  },
  {
   "metadata": {},
   "cell_type": "code",
   "outputs": [],
   "execution_count": null,
   "source": "",
   "id": "d7553a6558b4e5c1"
  }
 ],
 "metadata": {
  "kernelspec": {
   "display_name": "Python 3",
   "language": "python",
   "name": "python3"
  },
  "language_info": {
   "codemirror_mode": {
    "name": "ipython",
    "version": 2
   },
   "file_extension": ".py",
   "mimetype": "text/x-python",
   "name": "python",
   "nbconvert_exporter": "python",
   "pygments_lexer": "ipython2",
   "version": "2.7.6"
  }
 },
 "nbformat": 4,
 "nbformat_minor": 5
}
