{
 "cells": [
  {
   "cell_type": "code",
   "id": "initial_id",
   "metadata": {
    "collapsed": true,
    "ExecuteTime": {
     "end_time": "2025-01-30T07:04:25.133723Z",
     "start_time": "2025-01-30T07:04:23.473574Z"
    }
   },
   "source": [
    "import numpy as np\n",
    "\n",
    "from collections import deque\n",
    "\n",
    "import matplotlib.pyplot as plt\n",
    "%matplotlib inline\n",
    "\n",
    "# PyTorch\n",
    "import torch\n",
    "import torch.nn as nn\n",
    "import torch.nn.functional as F\n",
    "import torch.optim as optim\n",
    "from torch.distributions import Categorical\n",
    "\n",
    "# Gym\n",
    "import gymnasium as gym\n",
    "import pygame\n",
    "from ple import PLE\n",
    "from ple.games import Pixelcopter\n",
    "import gym_pygame\n"
   ],
   "outputs": [
    {
     "name": "stdout",
     "output_type": "stream",
     "text": [
      "couldn't import doomish\n",
      "Couldn't import doom\n"
     ]
    }
   ],
   "execution_count": 1
  },
  {
   "metadata": {
    "ExecuteTime": {
     "end_time": "2025-01-30T07:04:25.811173Z",
     "start_time": "2025-01-30T07:04:25.133723Z"
    }
   },
   "cell_type": "code",
   "source": [
    "## to install\n",
    "## pip install git+https://github.com/ntasfi/PyGame-Learning-Environment.git\n",
    "## pip install git+https://github.com/qlan3/gym-games.git\n",
    "\n",
    "env_id = \"Pixelcopter-PLE-v0\"\n",
    "env = gym.make(env_id)\n",
    "eval_env = gym.make(env_id)\n",
    "s_size = env.observation_space.shape[0]\n",
    "a_size = env.action_space.n\n",
    "\n"
   ],
   "id": "1e3ff72bdb1eba0d",
   "outputs": [],
   "execution_count": 2
  },
  {
   "metadata": {
    "ExecuteTime": {
     "end_time": "2025-01-30T07:04:25.815061Z",
     "start_time": "2025-01-30T07:04:25.811173Z"
    }
   },
   "cell_type": "code",
   "source": [
    "print(\"_____OBSERVATION SPACE_____ \\n\")\n",
    "print(\"The State Space is: \", s_size)\n",
    "print(\"Sample observation\", env.observation_space.sample()) # Get a random observation\n",
    "\n",
    "print(\"\\n _____ACTION SPACE_____ \\n\")\n",
    "print(\"The Action Space is: \", a_size)\n",
    "print(\"Action Space Sample\", env.action_space.sample()) # Take a random action"
   ],
   "id": "6a5cacfef896fee7",
   "outputs": [
    {
     "name": "stdout",
     "output_type": "stream",
     "text": [
      "_____OBSERVATION SPACE_____ \n",
      "\n",
      "The State Space is:  7\n",
      "Sample observation [-1.1585984  -1.8774763   1.5367624  -0.06303519  0.66837555 -0.48352644\n",
      "  0.76737213]\n",
      "\n",
      " _____ACTION SPACE_____ \n",
      "\n",
      "The Action Space is:  2\n",
      "Action Space Sample 0\n"
     ]
    }
   ],
   "execution_count": 3
  },
  {
   "metadata": {
    "ExecuteTime": {
     "end_time": "2025-01-30T07:04:25.844828Z",
     "start_time": "2025-01-30T07:04:25.815061Z"
    }
   },
   "cell_type": "code",
   "source": "device = torch.device(\"cuda:0\" if torch.cuda.is_available() else \"cpu\")",
   "id": "a68636c5e23cbcf1",
   "outputs": [],
   "execution_count": 4
  },
  {
   "metadata": {
    "ExecuteTime": {
     "end_time": "2025-01-30T07:04:25.849828Z",
     "start_time": "2025-01-30T07:04:25.845828Z"
    }
   },
   "cell_type": "code",
   "source": [
    "class Policy(nn.Module):\n",
    "    def __init__(self, s_size, a_size, h_size):\n",
    "        super(Policy, self).__init__()\n",
    "        self.fc1 = nn.Linear(s_size, h_size)\n",
    "        self.fc2 = nn.Linear(h_size, h_size*2)\n",
    "        self.fc3 = nn.Linear(h_size*2, a_size)\n",
    "\n",
    "    def forward(self, x):\n",
    "        x = F.relu(self.fc1(x))\n",
    "        x = F.relu(self.fc2(x))\n",
    "        x = self.fc3(x)\n",
    "        return F.softmax(x, dim=1)\n",
    "    \n",
    "    def act(self, state):\n",
    "        state = torch.from_numpy(state).float().unsqueeze(0).to(device)\n",
    "        probs = self.forward(state).cpu()\n",
    "        m = Categorical(probs)\n",
    "        action = m.sample()\n",
    "        return action.item(), m.log_prob(action)"
   ],
   "id": "a350eb0b4e31584f",
   "outputs": [],
   "execution_count": 5
  },
  {
   "metadata": {
    "ExecuteTime": {
     "end_time": "2025-01-30T07:54:56.912883Z",
     "start_time": "2025-01-30T07:54:56.909801Z"
    }
   },
   "cell_type": "code",
   "source": [
    "pixelcopter_hyperparameters = {\n",
    "    \"h_size\": 64,\n",
    "    \"n_training_episodes\": 80000,\n",
    "    \"n_evaluation_episodes\": 50,\n",
    "    \"max_t\": 10000,\n",
    "    \"gamma\": 0.99,\n",
    "    \"lr\": 1e-4,\n",
    "    \"env_id\": env_id,\n",
    "    \"state_space\": int(s_size),\n",
    "    \"action_space\": int(a_size),\n",
    "}\n"
   ],
   "id": "59a88f67c20bc541",
   "outputs": [],
   "execution_count": 19
  },
  {
   "metadata": {
    "ExecuteTime": {
     "end_time": "2025-01-30T07:54:58.887887Z",
     "start_time": "2025-01-30T07:54:58.883777Z"
    }
   },
   "cell_type": "code",
   "source": [
    "# Create policy and place it to the device\n",
    "# torch.manual_seed(50)\n",
    "pixelcopter_policy = Policy(pixelcopter_hyperparameters[\"state_space\"], pixelcopter_hyperparameters[\"action_space\"], pixelcopter_hyperparameters[\"h_size\"]).to(device)\n",
    "pixelcopter_optimizer = optim.Adam(pixelcopter_policy.parameters(), lr=pixelcopter_hyperparameters[\"lr\"])\n"
   ],
   "id": "82e371e1d72d229c",
   "outputs": [],
   "execution_count": 20
  },
  {
   "metadata": {
    "ExecuteTime": {
     "end_time": "2025-01-30T07:54:59.819647Z",
     "start_time": "2025-01-30T07:54:59.814596Z"
    }
   },
   "cell_type": "code",
   "source": [
    "def reinforce(policy, optimizer, n_training_episodes, max_t, gamma, print_every):\n",
    "    # Help us to calculate the score during the training\n",
    "    scores_deque = deque(maxlen=100)\n",
    "    scores = []\n",
    "    # Line 3 of pseudocode\n",
    "    for i_episode in range(1, n_training_episodes + 1):\n",
    "        saved_log_probs = []\n",
    "        rewards = []\n",
    "        state, _ = env.reset()\n",
    "        # Line 4 of pseudocode\n",
    "        for t in range(max_t):\n",
    "            action, log_prob = policy.act(state)\n",
    "            saved_log_probs.append(log_prob)\n",
    "            state, reward, truncated, done, _ = env.step(action)\n",
    "            rewards.append(reward)\n",
    "            if done or truncated:\n",
    "                break\n",
    "        scores_deque.append(sum(rewards))\n",
    "        scores.append(sum(rewards))\n",
    "\n",
    "        # Line 6 of pseudocode: calculate the return\n",
    "        returns = deque(maxlen=max_t)\n",
    "        n_steps = len(rewards)\n",
    "        # Compute the discounted returns at each timestep,\n",
    "        # as\n",
    "        #      the sum of the gamma-discounted return at time t (G_t) + the reward at time t\n",
    "        #\n",
    "        # In O(N) time, where N is the number of time steps\n",
    "        # (this definition of the discounted return G_t follows the definition of this quantity\n",
    "        # shown at page 44 of Sutton&Barto 2017 2nd draft)\n",
    "        # G_t = r_(t+1) + r_(t+2) + ...\n",
    "\n",
    "        # Given this formulation, the returns at each timestep t can be computed\n",
    "        # by re-using the computed future returns G_(t+1) to compute the current return G_t\n",
    "        # G_t = r_(t+1) + gamma*G_(t+1)\n",
    "        # G_(t-1) = r_t + gamma* G_t\n",
    "        # (this follows a dynamic programming approach, with which we memorize solutions in order\n",
    "        # to avoid computing them multiple times)\n",
    "\n",
    "        # This is correct since the above is equivalent to (see also page 46 of Sutton&Barto 2017 2nd draft)\n",
    "        # G_(t-1) = r_t + gamma*r_(t+1) + gamma*gamma*r_(t+2) + ...\n",
    "\n",
    "        ## Given the above, we calculate the returns at timestep t as:\n",
    "        #               gamma[t] * return[t] + reward[t]\n",
    "        #\n",
    "        ## We compute this starting from the last timestep to the first, in order\n",
    "        ## to employ the formula presented above and avoid redundant computations that would be needed\n",
    "        ## if we were to do it from first to last.\n",
    "\n",
    "        ## Hence, the queue \"returns\" will hold the returns in chronological order, from t=0 to t=n_steps\n",
    "        ## thanks to the appendleft() function which allows to append to the position 0 in constant time O(1)\n",
    "        ## a normal python list would instead require O(N) to do this.\n",
    "        for t in range(n_steps)[::-1]:\n",
    "            disc_return_t = returns[0] if len(returns) > 0 else 0\n",
    "            returns.appendleft(gamma * disc_return_t + rewards[t])\n",
    "\n",
    "        ## standardization of the returns is employed to make training more stable\n",
    "        eps = np.finfo(np.float32).eps.item()\n",
    "        ## eps is the smallest representable float, which is\n",
    "        # added to the standard deviation of the returns to avoid numerical instabilities\n",
    "        returns = torch.tensor(returns)\n",
    "        returns = (returns - returns.mean()) / (returns.std() + eps)\n",
    "\n",
    "        # Line 7:\n",
    "        policy_loss = []\n",
    "        for log_prob, disc_return in zip(saved_log_probs, returns):\n",
    "            policy_loss.append(-log_prob * disc_return)\n",
    "        policy_loss = torch.cat(policy_loss).sum()\n",
    "\n",
    "        # Line 8: PyTorch prefers gradient descent\n",
    "        optimizer.zero_grad()\n",
    "        policy_loss.backward()\n",
    "        optimizer.step()\n",
    "\n",
    "        if i_episode % print_every == 0:\n",
    "            print(\"Episode {}\\tAverage Score: {:.2f}\".format(i_episode, np.mean(scores_deque)))\n",
    "\n",
    "    return scores"
   ],
   "id": "e5d2265fcb6cfc69",
   "outputs": [],
   "execution_count": 21
  },
  {
   "metadata": {
    "ExecuteTime": {
     "end_time": "2025-01-30T12:18:49.445809Z",
     "start_time": "2025-01-30T07:55:02.575888Z"
    }
   },
   "cell_type": "code",
   "source": [
    "scores = reinforce(pixelcopter_policy,\n",
    "                   pixelcopter_optimizer,\n",
    "                   pixelcopter_hyperparameters[\"n_training_episodes\"], \n",
    "                   pixelcopter_hyperparameters[\"max_t\"],\n",
    "                   pixelcopter_hyperparameters[\"gamma\"], \n",
    "                   1000)\n"
   ],
   "id": "ca9b6ad6832fc64f",
   "outputs": [
    {
     "name": "stdout",
     "output_type": "stream",
     "text": [
      "Episode 1000\tAverage Score: 4.47\n",
      "Episode 2000\tAverage Score: 5.55\n",
      "Episode 3000\tAverage Score: 9.25\n",
      "Episode 4000\tAverage Score: 9.35\n",
      "Episode 5000\tAverage Score: 10.99\n",
      "Episode 6000\tAverage Score: 14.60\n",
      "Episode 7000\tAverage Score: 11.07\n",
      "Episode 8000\tAverage Score: 18.28\n",
      "Episode 9000\tAverage Score: 16.64\n",
      "Episode 10000\tAverage Score: 17.96\n",
      "Episode 11000\tAverage Score: 14.65\n",
      "Episode 12000\tAverage Score: 18.04\n",
      "Episode 13000\tAverage Score: 17.49\n",
      "Episode 14000\tAverage Score: 17.24\n",
      "Episode 15000\tAverage Score: 21.14\n",
      "Episode 16000\tAverage Score: 20.67\n",
      "Episode 17000\tAverage Score: 22.66\n",
      "Episode 18000\tAverage Score: 24.88\n",
      "Episode 19000\tAverage Score: 23.76\n",
      "Episode 20000\tAverage Score: 24.14\n",
      "Episode 21000\tAverage Score: 22.48\n",
      "Episode 22000\tAverage Score: 26.84\n",
      "Episode 23000\tAverage Score: 31.22\n",
      "Episode 24000\tAverage Score: 24.47\n",
      "Episode 25000\tAverage Score: 32.08\n",
      "Episode 26000\tAverage Score: 17.18\n",
      "Episode 27000\tAverage Score: 25.44\n",
      "Episode 28000\tAverage Score: 27.86\n",
      "Episode 29000\tAverage Score: 40.76\n",
      "Episode 30000\tAverage Score: 31.04\n",
      "Episode 31000\tAverage Score: 19.83\n",
      "Episode 32000\tAverage Score: 29.55\n",
      "Episode 33000\tAverage Score: 24.37\n",
      "Episode 34000\tAverage Score: 36.52\n",
      "Episode 35000\tAverage Score: 34.47\n",
      "Episode 36000\tAverage Score: 33.13\n",
      "Episode 37000\tAverage Score: 35.05\n",
      "Episode 38000\tAverage Score: 32.55\n",
      "Episode 39000\tAverage Score: 34.09\n",
      "Episode 40000\tAverage Score: 36.74\n",
      "Episode 41000\tAverage Score: 31.15\n",
      "Episode 42000\tAverage Score: 47.83\n",
      "Episode 43000\tAverage Score: 51.08\n",
      "Episode 44000\tAverage Score: 41.31\n",
      "Episode 45000\tAverage Score: 50.24\n",
      "Episode 46000\tAverage Score: 51.80\n",
      "Episode 47000\tAverage Score: 50.66\n",
      "Episode 48000\tAverage Score: 55.15\n",
      "Episode 49000\tAverage Score: 40.53\n",
      "Episode 50000\tAverage Score: 55.08\n",
      "Episode 51000\tAverage Score: 47.10\n",
      "Episode 52000\tAverage Score: 56.75\n",
      "Episode 53000\tAverage Score: 53.03\n",
      "Episode 54000\tAverage Score: 64.59\n",
      "Episode 55000\tAverage Score: 52.24\n",
      "Episode 56000\tAverage Score: 55.44\n",
      "Episode 57000\tAverage Score: 72.36\n",
      "Episode 58000\tAverage Score: 56.11\n",
      "Episode 59000\tAverage Score: 45.78\n",
      "Episode 60000\tAverage Score: 66.48\n",
      "Episode 61000\tAverage Score: 52.72\n",
      "Episode 62000\tAverage Score: 57.60\n",
      "Episode 63000\tAverage Score: 55.34\n",
      "Episode 64000\tAverage Score: 45.98\n",
      "Episode 65000\tAverage Score: 78.42\n",
      "Episode 66000\tAverage Score: 68.86\n",
      "Episode 67000\tAverage Score: 44.57\n",
      "Episode 68000\tAverage Score: 74.66\n",
      "Episode 69000\tAverage Score: 76.40\n",
      "Episode 70000\tAverage Score: 50.58\n",
      "Episode 71000\tAverage Score: 65.49\n",
      "Episode 72000\tAverage Score: 73.14\n",
      "Episode 73000\tAverage Score: 70.31\n",
      "Episode 74000\tAverage Score: 78.89\n",
      "Episode 75000\tAverage Score: 78.34\n",
      "Episode 76000\tAverage Score: 82.79\n",
      "Episode 77000\tAverage Score: 85.46\n",
      "Episode 78000\tAverage Score: 69.67\n",
      "Episode 79000\tAverage Score: 35.52\n",
      "Episode 80000\tAverage Score: 83.17\n"
     ]
    }
   ],
   "execution_count": 22
  },
  {
   "metadata": {
    "ExecuteTime": {
     "end_time": "2025-01-30T12:18:59.776283Z",
     "start_time": "2025-01-30T12:18:59.772034Z"
    }
   },
   "cell_type": "code",
   "source": [
    "def evaluate_agent(env, max_steps, n_eval_episodes, policy):\n",
    "    \"\"\"\n",
    "    Evaluate the agent for ``n_eval_episodes`` episodes and returns average reward and std of reward.\n",
    "    :param env: The evaluation environment\n",
    "    :param n_eval_episodes: Number of episode to evaluate the agent\n",
    "    :param policy: The Reinforce agent\n",
    "    \"\"\"\n",
    "    episode_rewards = []\n",
    "    for episode in range(n_eval_episodes):\n",
    "        state, _ = env.reset()\n",
    "        step = 0\n",
    "        done = False\n",
    "        total_rewards_ep = 0\n",
    "\n",
    "        for step in range(max_steps):\n",
    "            action, _ = policy.act(state)\n",
    "            new_state, reward, truncated, done, info = env.step(action)\n",
    "            total_rewards_ep += reward\n",
    "\n",
    "            if done or truncated:\n",
    "                break\n",
    "            state = new_state\n",
    "        episode_rewards.append(total_rewards_ep)\n",
    "    mean_reward = np.mean(episode_rewards)\n",
    "    std_reward = np.std(episode_rewards)\n",
    "\n",
    "    return mean_reward, std_reward"
   ],
   "id": "70103e7d873cd0cf",
   "outputs": [],
   "execution_count": 23
  },
  {
   "metadata": {
    "ExecuteTime": {
     "end_time": "2025-01-30T12:19:19.603957Z",
     "start_time": "2025-01-30T12:19:00.614327Z"
    }
   },
   "cell_type": "code",
   "source": [
    "evaluate_agent(\n",
    "    eval_env, pixelcopter_hyperparameters[\"max_t\"], pixelcopter_hyperparameters[\"n_evaluation_episodes\"], pixelcopter_policy\n",
    ")"
   ],
   "id": "c627ae9694e02802",
   "outputs": [
    {
     "data": {
      "text/plain": [
       "(122.0, 94.8297421698488)"
      ]
     },
     "execution_count": 24,
     "metadata": {},
     "output_type": "execute_result"
    }
   ],
   "execution_count": 24
  },
  {
   "metadata": {
    "ExecuteTime": {
     "end_time": "2025-01-30T12:19:24.446875Z",
     "start_time": "2025-01-30T12:19:24.443654Z"
    }
   },
   "cell_type": "code",
   "source": [
    "from huggingface_hub import HfApi, snapshot_download\n",
    "from huggingface_hub.repocard import metadata_eval_result, metadata_save\n",
    "\n",
    "from pathlib import Path\n",
    "import datetime\n",
    "import json\n",
    "import imageio\n",
    "\n",
    "import tempfile\n"
   ],
   "id": "2d6138f43592ad1c",
   "outputs": [],
   "execution_count": 25
  },
  {
   "metadata": {
    "ExecuteTime": {
     "end_time": "2025-01-30T12:19:25.545671Z",
     "start_time": "2025-01-30T12:19:25.538672Z"
    }
   },
   "cell_type": "code",
   "source": [
    "def push_to_hub(repo_id,\n",
    "                model,\n",
    "                hyperparameters,\n",
    "                eval_env,\n",
    "                video_fps=30\n",
    "                ):\n",
    "  \"\"\"\n",
    "  Evaluate, Generate a video and Upload a model to Hugging Face Hub.\n",
    "  This method does the complete pipeline:\n",
    "  - It evaluates the model\n",
    "  - It generates the model card\n",
    "  - It generates a replay video of the agent\n",
    "  - It pushes everything to the Hub\n",
    "\n",
    "  :param repo_id: repo_id: id of the model repository from the Hugging Face Hub\n",
    "  :param model: the pytorch model we want to save\n",
    "  :param hyperparameters: training hyperparameters\n",
    "  :param eval_env: evaluation environment\n",
    "  :param video_fps: how many frame per seconds to record our video replay\n",
    "  \"\"\"\n",
    "\n",
    "  _, repo_name = repo_id.split(\"/\")\n",
    "  api = HfApi()\n",
    "\n",
    "  # Step 1: Create the repo\n",
    "  repo_url = api.create_repo(\n",
    "        repo_id=repo_id,\n",
    "        exist_ok=True,\n",
    "  )\n",
    "\n",
    "  with tempfile.TemporaryDirectory() as tmpdirname:\n",
    "    local_directory = Path(tmpdirname)\n",
    "\n",
    "    # Step 2: Save the model\n",
    "    torch.save(model, local_directory / \"model.pt\")\n",
    "\n",
    "    # Step 3: Save the hyperparameters to JSON\n",
    "    with open(local_directory / \"hyperparameters.json\", \"w\") as outfile:\n",
    "      json.dump(hyperparameters, outfile)\n",
    "\n",
    "    # Step 4: Evaluate the model and build JSON\n",
    "    mean_reward, std_reward = evaluate_agent(eval_env,\n",
    "                                            hyperparameters[\"max_t\"],\n",
    "                                            hyperparameters[\"n_evaluation_episodes\"],\n",
    "                                            model)\n",
    "    # Get datetime\n",
    "    eval_datetime = datetime.datetime.now()\n",
    "    eval_form_datetime = eval_datetime.isoformat()\n",
    "\n",
    "    evaluate_data = {\n",
    "          \"env_id\": hyperparameters[\"env_id\"],\n",
    "          \"mean_reward\": mean_reward,\n",
    "          \"n_evaluation_episodes\": hyperparameters[\"n_evaluation_episodes\"],\n",
    "          \"eval_datetime\": eval_form_datetime,\n",
    "    }\n",
    "\n",
    "    # Write a JSON file\n",
    "    with open(local_directory / \"results.json\", \"w\") as outfile:\n",
    "        json.dump(evaluate_data, outfile)\n",
    "\n",
    "    # Step 5: Create the model card\n",
    "    env_name = hyperparameters[\"env_id\"]\n",
    "\n",
    "    metadata = {}\n",
    "    metadata[\"tags\"] = [\n",
    "          env_name,\n",
    "          \"reinforce\",\n",
    "          \"reinforcement-learning\",\n",
    "          \"custom-implementation\",\n",
    "          \"deep-rl-class\"\n",
    "      ]\n",
    "\n",
    "    # Add metrics\n",
    "    eval = metadata_eval_result(\n",
    "        model_pretty_name=repo_name,\n",
    "        task_pretty_name=\"reinforcement-learning\",\n",
    "        task_id=\"reinforcement-learning\",\n",
    "        metrics_pretty_name=\"mean_reward\",\n",
    "        metrics_id=\"mean_reward\",\n",
    "        metrics_value=f\"{mean_reward:.2f} +/- {std_reward:.2f}\",\n",
    "        dataset_pretty_name=env_name,\n",
    "        dataset_id=env_name,\n",
    "      )\n",
    "\n",
    "    # Merges both dictionaries\n",
    "    metadata = {**metadata, **eval}\n",
    "\n",
    "    model_card = f\"\"\"\n",
    "  # **Reinforce** Agent playing **{env_id}**\n",
    "  This is a trained model of a **Reinforce** agent playing **{env_id}** .\n",
    "  To learn to use this model and train yours check Unit 4 of the Deep Reinforcement Learning Course: https://huggingface.co/deep-rl-course/unit4/introduction\n",
    "  \"\"\"\n",
    "\n",
    "    readme_path = local_directory / \"README.md\"\n",
    "    readme = \"\"\n",
    "    if readme_path.exists():\n",
    "        with readme_path.open(\"r\", encoding=\"utf8\") as f:\n",
    "          readme = f.read()\n",
    "    else:\n",
    "      readme = model_card\n",
    "\n",
    "    with readme_path.open(\"w\", encoding=\"utf-8\") as f:\n",
    "      f.write(readme)\n",
    "\n",
    "    # Save our metrics to Readme metadata\n",
    "    metadata_save(readme_path, metadata)\n",
    "\n",
    "    # Step 6: Record a video\n",
    "    #video_path =  local_directory / \"replay.mp4\"\n",
    "    #record_video(env, model, video_path, video_fps)\n",
    "\n",
    "    # Step 7. Push everything to the Hub\n",
    "    api.upload_folder(\n",
    "          repo_id=repo_id,\n",
    "          folder_path=local_directory,\n",
    "          path_in_repo=\".\",\n",
    "    )\n",
    "\n",
    "    print(f\"Your model is pushed to the Hub. You can view your model here: {repo_url}\")"
   ],
   "id": "efd4a38ecdb17ae2",
   "outputs": [],
   "execution_count": 26
  },
  {
   "metadata": {
    "ExecuteTime": {
     "end_time": "2025-01-30T12:19:41.767273Z",
     "start_time": "2025-01-30T12:19:28.502428Z"
    }
   },
   "cell_type": "code",
   "source": [
    "repo_id = \"afedyanin/Reinforce-Pixelcopter-PLE-v0\" #TODO Define your repo id {username/Reinforce-{model-id}}\n",
    "push_to_hub(repo_id,\n",
    "                pixelcopter_policy, # The model we want to save\n",
    "                pixelcopter_hyperparameters, # Hyperparameters\n",
    "                eval_env, # Evaluation environment\n",
    "                video_fps=30\n",
    "                )"
   ],
   "id": "e46772b00eb4d473",
   "outputs": [
    {
     "data": {
      "text/plain": [
       "model.pt:   0%|          | 0.00/39.7k [00:00<?, ?B/s]"
      ],
      "application/vnd.jupyter.widget-view+json": {
       "version_major": 2,
       "version_minor": 0,
       "model_id": "2346a3916e2640f3aa948097b98098b1"
      }
     },
     "metadata": {},
     "output_type": "display_data"
    },
    {
     "name": "stdout",
     "output_type": "stream",
     "text": [
      "Your model is pushed to the Hub. You can view your model here: https://huggingface.co/afedyanin/Reinforce-Pixelcopter-PLE-v0\n"
     ]
    }
   ],
   "execution_count": 27
  },
  {
   "metadata": {
    "ExecuteTime": {
     "end_time": "2025-01-30T07:23:27.041593Z",
     "start_time": "2025-01-30T07:23:27.039582Z"
    }
   },
   "cell_type": "code",
   "source": "",
   "id": "3522517da091a176",
   "outputs": [],
   "execution_count": 14
  }
 ],
 "metadata": {
  "kernelspec": {
   "display_name": "Python 3",
   "language": "python",
   "name": "python3"
  },
  "language_info": {
   "codemirror_mode": {
    "name": "ipython",
    "version": 2
   },
   "file_extension": ".py",
   "mimetype": "text/x-python",
   "name": "python",
   "nbconvert_exporter": "python",
   "pygments_lexer": "ipython2",
   "version": "2.7.6"
  }
 },
 "nbformat": 4,
 "nbformat_minor": 5
}
