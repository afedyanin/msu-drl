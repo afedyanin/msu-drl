{
 "cells": [
  {
   "metadata": {},
   "cell_type": "markdown",
   "source": "# Simple regression with Pytorch\n",
   "id": "895241a91e1584bc"
  },
  {
   "cell_type": "code",
   "id": "initial_id",
   "metadata": {
    "collapsed": true,
    "ExecuteTime": {
     "end_time": "2024-12-18T15:20:07.105080Z",
     "start_time": "2024-12-18T15:20:04.092488Z"
    }
   },
   "source": [
    "import numpy as np\n",
    "import torch\n",
    "from torch import nn, optim\n",
    "from torch.utils.data import TensorDataset, DataLoader, random_split\n",
    "import matplotlib.pyplot as plt\n",
    "from torch.utils.tensorboard import SummaryWriter\n"
   ],
   "outputs": [],
   "execution_count": 52
  },
  {
   "metadata": {},
   "cell_type": "markdown",
   "source": "## Data Generation",
   "id": "555447aeee9cecf3"
  },
  {
   "metadata": {
    "ExecuteTime": {
     "end_time": "2024-12-18T15:20:07.109927Z",
     "start_time": "2024-12-18T15:20:07.106223Z"
    }
   },
   "cell_type": "code",
   "source": [
    "true_b = 1\n",
    "true_w = 2\n",
    "N = 100\n",
    "\n",
    "# Data Generation\n",
    "np.random.seed(42)\n",
    "x = np.random.rand(N, 1)\n",
    "y = true_b + true_w * x + (.1 * np.random.randn(N, 1))\n",
    "\n",
    "# Shuffles the indices\n",
    "idx = np.arange(N)\n",
    "np.random.shuffle(idx)\n",
    "\n",
    "# Uses first 80 random indices for train\n",
    "train_idx = idx[:int(N*.8)]\n",
    "# Uses the remaining indices for validation\n",
    "val_idx = idx[int(N*.8):]\n",
    "\n",
    "# Generates train and validation sets\n",
    "x_train, y_train = x[train_idx], y[train_idx]\n",
    "x_val, y_val = x[val_idx], y[val_idx]"
   ],
   "id": "da6dc6b3d3201b2e",
   "outputs": [],
   "execution_count": 53
  },
  {
   "metadata": {},
   "cell_type": "markdown",
   "source": "## Data preparation v2",
   "id": "de0f6ec2e4b79c40"
  },
  {
   "metadata": {
    "ExecuteTime": {
     "end_time": "2024-12-18T15:20:07.116527Z",
     "start_time": "2024-12-18T15:20:07.111158Z"
    }
   },
   "cell_type": "code",
   "source": [
    "torch.manual_seed(13)\n",
    "\n",
    "# Builds tensors from numpy arrays BEFORE split\n",
    "x_tensor = torch.as_tensor(x).float()\n",
    "y_tensor = torch.as_tensor(y).float()\n",
    "\n",
    "# Builds dataset containing ALL data points\n",
    "dataset = TensorDataset(x_tensor, y_tensor)\n",
    "\n",
    "# Performs the split\n",
    "ratio = .8\n",
    "n_total = len(dataset)\n",
    "n_train = int(n_total * ratio)\n",
    "n_val = n_total - n_train\n",
    "\n",
    "train_data, val_data = random_split(dataset, [n_train, n_val])\n",
    "\n",
    "# Builds a loader of each set\n",
    "train_loader = DataLoader(dataset=train_data, batch_size=16, shuffle=True)\n",
    "val_loader = DataLoader(dataset=val_data, batch_size=16)\n"
   ],
   "id": "301c39018d923851",
   "outputs": [],
   "execution_count": 54
  },
  {
   "metadata": {},
   "cell_type": "markdown",
   "source": "## Model configuration v3",
   "id": "1139d6b315fe3f57"
  },
  {
   "metadata": {
    "ExecuteTime": {
     "end_time": "2024-12-18T15:20:07.121272Z",
     "start_time": "2024-12-18T15:20:07.117573Z"
    }
   },
   "cell_type": "code",
   "source": [
    "# helper function\n",
    "def make_train_step_fn(model, loss_fn, optimizer):\n",
    "    # Builds function that performs a step in the train loop\n",
    "    def perform_train_step_fn(x, y):\n",
    "        # Sets model to TRAIN mode\n",
    "        model.train()\n",
    "        \n",
    "        # Step 1 - Computes our model's predicted output - forward pass\n",
    "        yhat = model(x)\n",
    "        # Step 2 - Computes the loss\n",
    "        loss = loss_fn(yhat, y)\n",
    "        # Step 3 - Computes gradients for both \"a\" and \"b\" parameters\n",
    "        loss.backward()\n",
    "        # Step 4 - Updates parameters using gradients and the learning rate\n",
    "        optimizer.step()\n",
    "        optimizer.zero_grad()\n",
    "        \n",
    "        # Returns the loss\n",
    "        return loss.item()\n",
    "    \n",
    "    # Returns the function that will be called inside the train loop\n",
    "    return perform_train_step_fn\n",
    "\n",
    "def make_val_step_fn(model, loss_fn):\n",
    "    # Builds function that performs a step in the validation loop\n",
    "    def perform_val_step_fn(x, y):\n",
    "        # Sets model to EVAL mode\n",
    "        model.eval()\n",
    "        \n",
    "        # Step 1 - Computes our model's predicted output - forward pass\n",
    "        yhat = model(x)\n",
    "        # Step 2 - Computes the loss\n",
    "        loss = loss_fn(yhat, y)\n",
    "        # There is no need to compute Steps 3 and 4, since we don't update parameters during evaluation\n",
    "        return loss.item()\n",
    "    \n",
    "    return perform_val_step_fn"
   ],
   "id": "cf20090cb135e6f3",
   "outputs": [],
   "execution_count": 55
  },
  {
   "metadata": {
    "ExecuteTime": {
     "end_time": "2024-12-18T15:20:07.219486Z",
     "start_time": "2024-12-18T15:20:07.121817Z"
    }
   },
   "cell_type": "code",
   "source": [
    "\n",
    "device = 'cuda' if torch.cuda.is_available() else 'cpu'\n",
    "\n",
    "# Sets learning rate - this is \"eta\" ~ the \"n\" like Greek letter\n",
    "lr = 0.1\n",
    "\n",
    "torch.manual_seed(42)\n",
    "# Now we can create a model and send it at once to the device\n",
    "model = nn.Sequential(nn.Linear(1, 1)).to(device)\n",
    "\n",
    "# Defines a SGD optimizer to update the parameters (now retrieved directly from the model)\n",
    "optimizer = optim.SGD(model.parameters(), lr=lr)\n",
    "\n",
    "# Defines a MSE loss function\n",
    "loss_fn = nn.MSELoss(reduction='mean')\n",
    "\n",
    "# Creates the train_step function for our model, loss function and optimizer\n",
    "train_step_fn = make_train_step_fn(model, loss_fn, optimizer)\n",
    "\n",
    "# Creates the val_step function for our model and loss function\n",
    "val_step_fn = make_val_step_fn(model, loss_fn)\n",
    "\n",
    "# Creates a Summary Writer to interface with TensorBoard\n",
    "writer = SummaryWriter('runs/simple_linear_regression')\n",
    "\n",
    "# Fetches a single mini-batch so we can use add_graph\n",
    "x_sample, y_sample = next(iter(train_loader))\n",
    "writer.add_graph(model, x_sample.to(device))\n"
   ],
   "id": "fc907fb20e4e2de6",
   "outputs": [],
   "execution_count": 56
  },
  {
   "metadata": {},
   "cell_type": "markdown",
   "source": "## Run - Model Training v5",
   "id": "79f2fa4f3d93007f"
  },
  {
   "metadata": {
    "ExecuteTime": {
     "end_time": "2024-12-18T15:20:07.223175Z",
     "start_time": "2024-12-18T15:20:07.220542Z"
    }
   },
   "cell_type": "code",
   "source": [
    "# helper function 2\n",
    "def mini_batch(device, data_loader, step_fn):\n",
    "    mini_batch_losses = []\n",
    "    for x_batch, y_batch in data_loader:\n",
    "        x_batch = x_batch.to(device)\n",
    "        y_batch = y_batch.to(device)\n",
    "\n",
    "        mini_batch_loss = step_fn(x_batch, y_batch)\n",
    "        mini_batch_losses.append(mini_batch_loss)\n",
    "\n",
    "    loss = np.mean(mini_batch_losses)\n",
    "    return loss"
   ],
   "id": "d5f31a955c5ec383",
   "outputs": [],
   "execution_count": 57
  },
  {
   "metadata": {
    "ExecuteTime": {
     "end_time": "2024-12-18T15:20:08.314067Z",
     "start_time": "2024-12-18T15:20:07.223709Z"
    }
   },
   "cell_type": "code",
   "source": [
    "# Defines number of epochs\n",
    "n_epochs = 200\n",
    "\n",
    "losses = []\n",
    "val_losses = []\n",
    "\n",
    "for epoch in range(n_epochs):\n",
    "    # inner loop\n",
    "    loss = mini_batch(device, train_loader, train_step_fn)\n",
    "    losses.append(loss)\n",
    "    \n",
    "    # VALIDATION\n",
    "    # no gradients in validation!\n",
    "    with torch.no_grad():\n",
    "        val_loss = mini_batch(device, val_loader, val_step_fn)\n",
    "        val_losses.append(val_loss)\n",
    "    \n",
    "    # Records both losses for each epoch under the main tag \"loss\"\n",
    "    writer.add_scalars(main_tag='loss',\n",
    "                       tag_scalar_dict={'training': loss, 'validation': val_loss},\n",
    "                       global_step=epoch)\n",
    "\n",
    "# Closes the writer\n",
    "writer.close()\n"
   ],
   "id": "6ce628e4f4bfa1cc",
   "outputs": [],
   "execution_count": 58
  },
  {
   "metadata": {},
   "cell_type": "markdown",
   "source": "## View result",
   "id": "b7ef7cd82fcf977a"
  },
  {
   "metadata": {
    "ExecuteTime": {
     "end_time": "2024-12-18T15:20:08.319139Z",
     "start_time": "2024-12-18T15:20:08.314067Z"
    }
   },
   "cell_type": "code",
   "source": "print(model.state_dict())",
   "id": "772ce8113cb3a969",
   "outputs": [
    {
     "name": "stdout",
     "output_type": "stream",
     "text": [
      "OrderedDict({'0.weight': tensor([[1.9432]], device='cuda:0'), '0.bias': tensor([1.0263], device='cuda:0')})\n"
     ]
    }
   ],
   "execution_count": 59
  },
  {
   "metadata": {},
   "cell_type": "markdown",
   "source": "## Plotting Losses",
   "id": "d25d604fea2d133e"
  },
  {
   "metadata": {
    "ExecuteTime": {
     "end_time": "2024-12-18T15:20:08.322933Z",
     "start_time": "2024-12-18T15:20:08.319139Z"
    }
   },
   "cell_type": "code",
   "source": [
    "def plot_losses(losses, val_losses):\n",
    "    fig = plt.figure(figsize=(10, 4))\n",
    "    plt.plot(losses, label='Training Loss', c='b')\n",
    "    plt.plot(val_losses, label='Validation Loss', c='r')\n",
    "    plt.yscale('log')\n",
    "    plt.xlabel('Epochs')\n",
    "    plt.ylabel('Loss')\n",
    "    plt.legend()\n",
    "    plt.tight_layout()\n",
    "    return fig"
   ],
   "id": "ec713c5310334bab",
   "outputs": [],
   "execution_count": 60
  },
  {
   "metadata": {
    "ExecuteTime": {
     "end_time": "2024-12-18T15:20:08.443532Z",
     "start_time": "2024-12-18T15:20:08.322933Z"
    }
   },
   "cell_type": "code",
   "source": "fig = plot_losses(losses, val_losses)",
   "id": "e302d2acbb84c3bc",
   "outputs": [
    {
     "data": {
      "text/plain": [
       "<Figure size 1000x400 with 1 Axes>"
      ],
      "image/png": "[encoded data removed]"
     },
     "metadata": {},
     "output_type": "display_data"
    }
   ],
   "execution_count": 61
  },
  {
   "metadata": {},
   "cell_type": "markdown",
   "source": "## Save Model",
   "id": "e11e66b1f496d92d"
  },
  {
   "metadata": {
    "ExecuteTime": {
     "end_time": "2024-12-18T15:34:50.221278Z",
     "start_time": "2024-12-18T15:34:50.214551Z"
    }
   },
   "cell_type": "code",
   "source": [
    "checkpoint = {'epoch': n_epochs,\n",
    "              'model_state_dict': model.state_dict(),\n",
    "              'optimizer_state_dict': optimizer.state_dict(),\n",
    "              'loss': losses,\n",
    "              'val_loss': val_losses}\n",
    "\n",
    "torch.save(checkpoint, 'model_checkpoint.pth')\n"
   ],
   "id": "26ff7b91e4b3dc00",
   "outputs": [],
   "execution_count": 62
  },
  {
   "metadata": {},
   "cell_type": "markdown",
   "source": "## Resuming Training",
   "id": "ff4895f647a79439"
  },
  {
   "metadata": {
    "ExecuteTime": {
     "end_time": "2024-12-18T15:37:22.587591Z",
     "start_time": "2024-12-18T15:37:22.581166Z"
    }
   },
   "cell_type": "code",
   "source": [
    "checkpoint = torch.load('model_checkpoint.pth', weights_only=False)\n",
    "\n",
    "model.load_state_dict(checkpoint['model_state_dict'])\n",
    "optimizer.load_state_dict(checkpoint['optimizer_state_dict'])\n",
    "\n",
    "saved_epoch = checkpoint['epoch']\n",
    "saved_losses = checkpoint['loss']\n",
    "saved_val_losses = checkpoint['val_loss']\n",
    "\n",
    "model.train() # always use TRAIN for resuming training"
   ],
   "id": "a0105a4ff4d1d19a",
   "outputs": [
    {
     "data": {
      "text/plain": [
       "Sequential(\n",
       "  (0): Linear(in_features=1, out_features=1, bias=True)\n",
       ")"
      ]
     },
     "execution_count": 66,
     "metadata": {},
     "output_type": "execute_result"
    }
   ],
   "execution_count": 66
  },
  {
   "metadata": {
    "ExecuteTime": {
     "end_time": "2024-12-18T15:37:27.801843Z",
     "start_time": "2024-12-18T15:37:27.795070Z"
    }
   },
   "cell_type": "code",
   "source": "print(model.state_dict())",
   "id": "cd46d42742a16017",
   "outputs": [
    {
     "name": "stdout",
     "output_type": "stream",
     "text": [
      "OrderedDict({'0.weight': tensor([[1.9432]], device='cuda:0'), '0.bias': tensor([1.0263], device='cuda:0')})\n"
     ]
    }
   ],
   "execution_count": 67
  },
  {
   "metadata": {},
   "cell_type": "markdown",
   "source": "## Deploying / Making Predictions",
   "id": "eba9c2488b7ea6e4"
  },
  {
   "metadata": {
    "ExecuteTime": {
     "end_time": "2024-12-18T15:41:52.727078Z",
     "start_time": "2024-12-18T15:41:52.710270Z"
    }
   },
   "cell_type": "code",
   "source": [
    "checkpoint = torch.load('model_checkpoint.pth', weights_only=False)\n",
    "model.load_state_dict(checkpoint['model_state_dict'])\n",
    "\n",
    "print(model.state_dict())"
   ],
   "id": "26a1b11b24dced5b",
   "outputs": [
    {
     "name": "stdout",
     "output_type": "stream",
     "text": [
      "OrderedDict({'0.weight': tensor([[1.9432]], device='cuda:0'), '0.bias': tensor([1.0263], device='cuda:0')})\n"
     ]
    }
   ],
   "execution_count": 68
  },
  {
   "metadata": {
    "ExecuteTime": {
     "end_time": "2024-12-18T15:41:53.735080Z",
     "start_time": "2024-12-18T15:41:53.728646Z"
    }
   },
   "cell_type": "code",
   "source": [
    "new_inputs = torch.tensor([[.20], [.34], [.57]])\n",
    "model.eval() # always use EVAL for fully trained models!\n",
    "model(new_inputs.to(device))\n"
   ],
   "id": "cca77eaf6ba646b3",
   "outputs": [
    {
     "data": {
      "text/plain": [
       "tensor([[1.4150],\n",
       "        [1.6870],\n",
       "        [2.1340]], device='cuda:0', grad_fn=<AddmmBackward0>)"
      ]
     },
     "execution_count": 69,
     "metadata": {},
     "output_type": "execute_result"
    }
   ],
   "execution_count": 69
  },
  {
   "metadata": {
    "ExecuteTime": {
     "end_time": "2024-12-18T15:46:10.509303Z",
     "start_time": "2024-12-18T15:46:10.505047Z"
    }
   },
   "cell_type": "code",
   "source": [
    "x = torch.tensor([[.20], [.34], [.57]])\n",
    "y = 2*x +1\n",
    "y"
   ],
   "id": "362f4bc527d0201",
   "outputs": [
    {
     "data": {
      "text/plain": [
       "tensor([[1.4000],\n",
       "        [1.6800],\n",
       "        [2.1400]])"
      ]
     },
     "execution_count": 70,
     "metadata": {},
     "output_type": "execute_result"
    }
   ],
   "execution_count": 70
  },
  {
   "metadata": {},
   "cell_type": "markdown",
   "source": [
    "### Weird plots in TensorBoard?\n",
    "\n",
    "Run this if you want to clean up a previous run and start fresh with TensorBoard :-)"
   ],
   "id": "8e346ae2cd439cf9"
  },
  {
   "metadata": {
    "ExecuteTime": {
     "end_time": "2024-12-18T15:49:12.409917Z",
     "start_time": "2024-12-18T15:49:12.406210Z"
    }
   },
   "cell_type": "code",
   "source": [
    "import shutil\n",
    "\n",
    "shutil.rmtree('./runs/simple_linear_regression/', ignore_errors=True)"
   ],
   "id": "167a8f0816c28e99",
   "outputs": [],
   "execution_count": 71
  },
  {
   "metadata": {},
   "cell_type": "code",
   "outputs": [],
   "execution_count": null,
   "source": "",
   "id": "ed88274cc0b13466"
  }
 ],
 "metadata": {
  "kernelspec": {
   "display_name": "Python 3",
   "language": "python",
   "name": "python3"
  },
  "language_info": {
   "codemirror_mode": {
    "name": "ipython",
    "version": 2
   },
   "file_extension": ".py",
   "mimetype": "text/x-python",
   "name": "python",
   "nbconvert_exporter": "python",
   "pygments_lexer": "ipython2",
   "version": "2.7.6"
  }
 },
 "nbformat": 4,
 "nbformat_minor": 5
}
