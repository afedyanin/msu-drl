{
 "cells": [
  {
   "cell_type": "code",
   "id": "initial_id",
   "metadata": {
    "collapsed": true,
    "ExecuteTime": {
     "end_time": "2024-11-22T15:52:56.464589Z",
     "start_time": "2024-11-22T15:52:55.999851Z"
    }
   },
   "source": [
    "import sys\n",
    "from datetime import datetime, timezone\n",
    "\n",
    "import numpy as np\n",
    "import pandas as pd\n",
    "from matplotlib import pyplot as plt\n",
    "\n",
    "from feature_composer import FeatureComposer\n",
    "\n",
    "sys.path.append(\"../airflow/plugins\")\n",
    "\n",
    "from domain_model import Interval\n",
    "from synthetic_data_adapter import SyntheticDataAdapter"
   ],
   "outputs": [],
   "execution_count": 1
  },
  {
   "metadata": {
    "ExecuteTime": {
     "end_time": "2024-11-22T15:52:57.124984Z",
     "start_time": "2024-11-22T15:52:57.109213Z"
    }
   },
   "cell_type": "code",
   "source": [
    "interval = Interval.hour_1\n",
    "\n",
    "def linear(x: np.array):\n",
    "    w = 0.2\n",
    "    b = 0.1\n",
    "    return w * x + b\n",
    "\n",
    "def sinus(x: np.array):\n",
    "    return np.sin(x)\n",
    "\n",
    "synthetic_adapter = SyntheticDataAdapter(func=linear, interval=interval, use_sampling=True)\n",
    "composer = FeatureComposer(data_adapter=synthetic_adapter)\n",
    "\n",
    "train_start_time_utc = datetime(2022, 4, 1, tzinfo=timezone.utc)\n",
    "train_end_time_utc = datetime(2022, 5, 31, tzinfo=timezone.utc)\n",
    "\n",
    "df = composer.compose(train_start_time_utc, train_end_time_utc)\n",
    "df.drop(df.index[-1], inplace=True)\n",
    "df"
   ],
   "id": "78aa168e0445d258",
   "outputs": [
    {
     "data": {
      "text/plain": [
       "                             open    high     low   close  \\\n",
       "time_utc                                                    \n",
       "2022-04-01 01:00:00+00:00    0.22    0.32    0.22    0.32   \n",
       "2022-04-01 02:00:00+00:00    0.34    0.44    0.34    0.44   \n",
       "2022-04-01 03:00:00+00:00    0.46    0.56    0.46    0.56   \n",
       "2022-04-01 04:00:00+00:00    0.58    0.68    0.58    0.68   \n",
       "2022-04-01 05:00:00+00:00    0.70    0.80    0.70    0.80   \n",
       "...                           ...     ...     ...     ...   \n",
       "2022-05-30 19:00:00+00:00  172.30  172.40  172.30  172.40   \n",
       "2022-05-30 20:00:00+00:00  172.42  172.52  172.42  172.52   \n",
       "2022-05-30 21:00:00+00:00  172.54  172.64  172.54  172.64   \n",
       "2022-05-30 22:00:00+00:00  172.66  172.76  172.66  172.76   \n",
       "2022-05-30 23:00:00+00:00  172.78  172.88  172.78  172.88   \n",
       "\n",
       "                           feature_close_return  info_intraday_return  \n",
       "time_utc                                                               \n",
       "2022-04-01 01:00:00+00:00                  0.12                   0.1  \n",
       "2022-04-01 02:00:00+00:00                  0.12                   0.1  \n",
       "2022-04-01 03:00:00+00:00                  0.12                   0.1  \n",
       "2022-04-01 04:00:00+00:00                  0.12                   0.1  \n",
       "2022-04-01 05:00:00+00:00                  0.12                   0.1  \n",
       "...                                         ...                   ...  \n",
       "2022-05-30 19:00:00+00:00                  0.12                   0.1  \n",
       "2022-05-30 20:00:00+00:00                  0.12                   0.1  \n",
       "2022-05-30 21:00:00+00:00                  0.12                   0.1  \n",
       "2022-05-30 22:00:00+00:00                  0.12                   0.1  \n",
       "2022-05-30 23:00:00+00:00                  0.12                   0.1  \n",
       "\n",
       "[1439 rows x 6 columns]"
      ],
      "text/html": [
       "<div>\n",
       "<style scoped>\n",
       "    .dataframe tbody tr th:only-of-type {\n",
       "        vertical-align: middle;\n",
       "    }\n",
       "\n",
       "    .dataframe tbody tr th {\n",
       "        vertical-align: top;\n",
       "    }\n",
       "\n",
       "    .dataframe thead th {\n",
       "        text-align: right;\n",
       "    }\n",
       "</style>\n",
       "<table border=\"1\" class=\"dataframe\">\n",
       "  <thead>\n",
       "    <tr style=\"text-align: right;\">\n",
       "      <th></th>\n",
       "      <th>open</th>\n",
       "      <th>high</th>\n",
       "      <th>low</th>\n",
       "      <th>close</th>\n",
       "      <th>feature_close_return</th>\n",
       "      <th>info_intraday_return</th>\n",
       "    </tr>\n",
       "    <tr>\n",
       "      <th>time_utc</th>\n",
       "      <th></th>\n",
       "      <th></th>\n",
       "      <th></th>\n",
       "      <th></th>\n",
       "      <th></th>\n",
       "      <th></th>\n",
       "    </tr>\n",
       "  </thead>\n",
       "  <tbody>\n",
       "    <tr>\n",
       "      <th>2022-04-01 01:00:00+00:00</th>\n",
       "      <td>0.22</td>\n",
       "      <td>0.32</td>\n",
       "      <td>0.22</td>\n",
       "      <td>0.32</td>\n",
       "      <td>0.12</td>\n",
       "      <td>0.1</td>\n",
       "    </tr>\n",
       "    <tr>\n",
       "      <th>2022-04-01 02:00:00+00:00</th>\n",
       "      <td>0.34</td>\n",
       "      <td>0.44</td>\n",
       "      <td>0.34</td>\n",
       "      <td>0.44</td>\n",
       "      <td>0.12</td>\n",
       "      <td>0.1</td>\n",
       "    </tr>\n",
       "    <tr>\n",
       "      <th>2022-04-01 03:00:00+00:00</th>\n",
       "      <td>0.46</td>\n",
       "      <td>0.56</td>\n",
       "      <td>0.46</td>\n",
       "      <td>0.56</td>\n",
       "      <td>0.12</td>\n",
       "      <td>0.1</td>\n",
       "    </tr>\n",
       "    <tr>\n",
       "      <th>2022-04-01 04:00:00+00:00</th>\n",
       "      <td>0.58</td>\n",
       "      <td>0.68</td>\n",
       "      <td>0.58</td>\n",
       "      <td>0.68</td>\n",
       "      <td>0.12</td>\n",
       "      <td>0.1</td>\n",
       "    </tr>\n",
       "    <tr>\n",
       "      <th>2022-04-01 05:00:00+00:00</th>\n",
       "      <td>0.70</td>\n",
       "      <td>0.80</td>\n",
       "      <td>0.70</td>\n",
       "      <td>0.80</td>\n",
       "      <td>0.12</td>\n",
       "      <td>0.1</td>\n",
       "    </tr>\n",
       "    <tr>\n",
       "      <th>...</th>\n",
       "      <td>...</td>\n",
       "      <td>...</td>\n",
       "      <td>...</td>\n",
       "      <td>...</td>\n",
       "      <td>...</td>\n",
       "      <td>...</td>\n",
       "    </tr>\n",
       "    <tr>\n",
       "      <th>2022-05-30 19:00:00+00:00</th>\n",
       "      <td>172.30</td>\n",
       "      <td>172.40</td>\n",
       "      <td>172.30</td>\n",
       "      <td>172.40</td>\n",
       "      <td>0.12</td>\n",
       "      <td>0.1</td>\n",
       "    </tr>\n",
       "    <tr>\n",
       "      <th>2022-05-30 20:00:00+00:00</th>\n",
       "      <td>172.42</td>\n",
       "      <td>172.52</td>\n",
       "      <td>172.42</td>\n",
       "      <td>172.52</td>\n",
       "      <td>0.12</td>\n",
       "      <td>0.1</td>\n",
       "    </tr>\n",
       "    <tr>\n",
       "      <th>2022-05-30 21:00:00+00:00</th>\n",
       "      <td>172.54</td>\n",
       "      <td>172.64</td>\n",
       "      <td>172.54</td>\n",
       "      <td>172.64</td>\n",
       "      <td>0.12</td>\n",
       "      <td>0.1</td>\n",
       "    </tr>\n",
       "    <tr>\n",
       "      <th>2022-05-30 22:00:00+00:00</th>\n",
       "      <td>172.66</td>\n",
       "      <td>172.76</td>\n",
       "      <td>172.66</td>\n",
       "      <td>172.76</td>\n",
       "      <td>0.12</td>\n",
       "      <td>0.1</td>\n",
       "    </tr>\n",
       "    <tr>\n",
       "      <th>2022-05-30 23:00:00+00:00</th>\n",
       "      <td>172.78</td>\n",
       "      <td>172.88</td>\n",
       "      <td>172.78</td>\n",
       "      <td>172.88</td>\n",
       "      <td>0.12</td>\n",
       "      <td>0.1</td>\n",
       "    </tr>\n",
       "  </tbody>\n",
       "</table>\n",
       "<p>1439 rows × 6 columns</p>\n",
       "</div>"
      ]
     },
     "execution_count": 2,
     "metadata": {},
     "output_type": "execute_result"
    }
   ],
   "execution_count": 2
  },
  {
   "metadata": {
    "ExecuteTime": {
     "end_time": "2024-11-22T15:53:00.047933Z",
     "start_time": "2024-11-22T15:53:00.033216Z"
    }
   },
   "cell_type": "code",
   "source": "df[\"feature_close_return\"].describe()\n",
   "id": "b8c129de2113ccf3",
   "outputs": [
    {
     "data": {
      "text/plain": [
       "count    1.439000e+03\n",
       "mean     1.200000e-01\n",
       "std      2.776522e-17\n",
       "min      1.200000e-01\n",
       "25%      1.200000e-01\n",
       "50%      1.200000e-01\n",
       "75%      1.200000e-01\n",
       "max      1.200000e-01\n",
       "Name: feature_close_return, dtype: float64"
      ]
     },
     "execution_count": 3,
     "metadata": {},
     "output_type": "execute_result"
    }
   ],
   "execution_count": 3
  },
  {
   "metadata": {
    "ExecuteTime": {
     "end_time": "2024-11-22T15:53:06.435966Z",
     "start_time": "2024-11-22T15:53:06.350930Z"
    }
   },
   "cell_type": "code",
   "source": "plt.plot(df[\"feature_close_return\"])",
   "id": "70e88ba0e96d4f78",
   "outputs": [
    {
     "data": {
      "text/plain": [
       "[<matplotlib.lines.Line2D at 0x127c5fc85c0>]"
      ]
     },
     "execution_count": 4,
     "metadata": {},
     "output_type": "execute_result"
    },
    {
     "data": {
      "text/plain": [
       "<Figure size 640x480 with 1 Axes>"
      ],
      "image/png": "[encoded data removed]"
     },
     "metadata": {},
     "output_type": "display_data"
    }
   ],
   "execution_count": 4
  },
  {
   "metadata": {
    "ExecuteTime": {
     "end_time": "2024-11-22T15:41:59.013650Z",
     "start_time": "2024-11-22T15:41:59.011141Z"
    }
   },
   "cell_type": "code",
   "source": "",
   "id": "b6ccaf3ceff94c7f",
   "outputs": [],
   "execution_count": 16
  }
 ],
 "metadata": {
  "kernelspec": {
   "display_name": "Python 3",
   "language": "python",
   "name": "python3"
  },
  "language_info": {
   "codemirror_mode": {
    "name": "ipython",
    "version": 2
   },
   "file_extension": ".py",
   "mimetype": "text/x-python",
   "name": "python",
   "nbconvert_exporter": "python",
   "pygments_lexer": "ipython2",
   "version": "2.7.6"
  }
 },
 "nbformat": 4,
 "nbformat_minor": 5
}
