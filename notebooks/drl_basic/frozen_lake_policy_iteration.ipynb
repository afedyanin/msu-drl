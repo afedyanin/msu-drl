{
 "cells": [
  {
   "cell_type": "code",
   "id": "initial_id",
   "metadata": {
    "collapsed": true,
    "ExecuteTime": {
     "end_time": "2024-12-22T14:26:16.646601Z",
     "start_time": "2024-12-22T14:26:14.005292Z"
    }
   },
   "source": [
    "import gymnasium as gym\n",
    "import torch"
   ],
   "outputs": [],
   "execution_count": 1
  },
  {
   "metadata": {
    "ExecuteTime": {
     "end_time": "2024-12-22T14:26:18.524468Z",
     "start_time": "2024-12-22T14:26:18.520796Z"
    }
   },
   "cell_type": "code",
   "source": [
    "def policy_evaluation(env: gym.Env, policy, gamma, threshold):\n",
    "    \"\"\"\n",
    "    Perform policy evaluation\n",
    "    @param env: OpenAI Gym environment\n",
    "    @param policy: policy matrix containing actions and their probability in each state\n",
    "    @param gamma: discount factor\n",
    "    @param threshold: the evaluation will stop once values for all states are less than the threshold\n",
    "    @return: values of the given policy\n",
    "    \"\"\"\n",
    "    n_state = policy.shape[0]\n",
    "    V = torch.zeros(n_state)\n",
    "    while True:\n",
    "        V_temp = torch.zeros(n_state)\n",
    "        for state in range(n_state):\n",
    "            action = policy[state].item()\n",
    "            for trans_prob, new_state, reward, _ in env.unwrapped.P[state][action]:\n",
    "                V_temp[state] += trans_prob * (reward + gamma * V[new_state])\n",
    "        max_delta = torch.max(torch.abs(V - V_temp))\n",
    "        V = V_temp.clone()\n",
    "        if max_delta <= threshold:\n",
    "            break\n",
    "    return V\n"
   ],
   "id": "f25543937f311238",
   "outputs": [],
   "execution_count": 2
  },
  {
   "metadata": {
    "ExecuteTime": {
     "end_time": "2024-12-22T14:26:19.379837Z",
     "start_time": "2024-12-22T14:26:19.376248Z"
    }
   },
   "cell_type": "code",
   "source": [
    "def policy_improvement(env, V, gamma):\n",
    "    \"\"\"\n",
    "    Obtain an improved policy based on the values\n",
    "    @param env: OpenAI Gym environment\n",
    "    @param V: policy values\n",
    "    @param gamma: discount factor\n",
    "    @return: the policy\n",
    "    \"\"\"\n",
    "    n_state = env.observation_space.n\n",
    "    n_action = env.action_space.n\n",
    "    policy = torch.zeros(n_state)\n",
    "    for state in range(n_state):\n",
    "        v_actions = torch.zeros(n_action)\n",
    "        for action in range(n_action):\n",
    "            for trans_prob, new_state, reward, _ in env.unwrapped.P[state][action]:\n",
    "                v_actions[action] += trans_prob * (reward + gamma * V[new_state])\n",
    "        policy[state] = torch.argmax(v_actions)\n",
    "    return policy\n"
   ],
   "id": "32c93ecc0ccd56f5",
   "outputs": [],
   "execution_count": 3
  },
  {
   "metadata": {
    "ExecuteTime": {
     "end_time": "2024-12-22T14:26:20.625351Z",
     "start_time": "2024-12-22T14:26:20.622836Z"
    }
   },
   "cell_type": "code",
   "source": [
    "def policy_iteration(env, gamma, threshold):\n",
    "    \"\"\"\n",
    "    Solve a given environment with policy iteration algorithm\n",
    "    @param env: OpenAI Gym environment\n",
    "    @param gamma: discount factor\n",
    "    @param threshold: the evaluation will stop once values for all states are less than the threshold\n",
    "    @return: optimal values and the optimal policy for the given environment\n",
    "    \"\"\"\n",
    "    n_state = env.observation_space.n\n",
    "    n_action = env.action_space.n\n",
    "    policy = torch.randint(high=n_action, size=(n_state,)).float()\n",
    "    while True:\n",
    "        V = policy_evaluation(env, policy, gamma, threshold)\n",
    "        policy_improved = policy_improvement(env, V, gamma)\n",
    "        if torch.equal(policy_improved, policy):\n",
    "            return V, policy_improved\n",
    "        policy = policy_improved\n",
    "\n"
   ],
   "id": "6e24eaaa1412ebb8",
   "outputs": [],
   "execution_count": 4
  },
  {
   "metadata": {
    "ExecuteTime": {
     "end_time": "2024-12-22T14:26:22.008270Z",
     "start_time": "2024-12-22T14:26:21.682037Z"
    }
   },
   "cell_type": "code",
   "source": [
    "env = gym.make('FrozenLake-v1')\n",
    "gamma = 0.99\n",
    "threshold = 0.0001\n",
    "V_optimal, optimal_policy = policy_iteration(env, gamma, threshold)\n",
    "\n",
    "print('Optimal values:\\n{}'.format(V_optimal))\n",
    "print('Optimal policy:\\n{}'.format(optimal_policy))"
   ],
   "id": "74e246c75e6af42d",
   "outputs": [
    {
     "name": "stdout",
     "output_type": "stream",
     "text": [
      "Optimal values:\n",
      "tensor([0.5404, 0.4966, 0.4681, 0.4541, 0.5569, 0.0000, 0.3572, 0.0000, 0.5905,\n",
      "        0.6421, 0.6144, 0.0000, 0.0000, 0.7410, 0.8625, 0.0000])\n",
      "Optimal policy:\n",
      "tensor([0., 3., 3., 3., 0., 0., 0., 0., 3., 1., 0., 0., 0., 2., 1., 0.])\n"
     ]
    }
   ],
   "execution_count": 5
  },
  {
   "metadata": {},
   "cell_type": "code",
   "outputs": [],
   "execution_count": null,
   "source": "",
   "id": "68ac5a26449c2071"
  }
 ],
 "metadata": {
  "kernelspec": {
   "display_name": "Python 3",
   "language": "python",
   "name": "python3"
  },
  "language_info": {
   "codemirror_mode": {
    "name": "ipython",
    "version": 2
   },
   "file_extension": ".py",
   "mimetype": "text/x-python",
   "name": "python",
   "nbconvert_exporter": "python",
   "pygments_lexer": "ipython2",
   "version": "2.7.6"
  }
 },
 "nbformat": 4,
 "nbformat_minor": 5
}
