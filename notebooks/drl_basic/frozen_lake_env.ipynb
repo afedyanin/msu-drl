{
 "cells": [
  {
   "cell_type": "code",
   "id": "initial_id",
   "metadata": {
    "collapsed": true,
    "ExecuteTime": {
     "end_time": "2024-12-21T06:44:15.544680Z",
     "start_time": "2024-12-21T06:44:12.595841Z"
    }
   },
   "source": [
    "import gymnasium as gym\n",
    "import torch"
   ],
   "outputs": [],
   "execution_count": 2
  },
  {
   "metadata": {
    "ExecuteTime": {
     "end_time": "2024-12-21T06:44:43.647883Z",
     "start_time": "2024-12-21T06:44:43.639827Z"
    }
   },
   "cell_type": "code",
   "source": [
    "env = gym.make(\"FrozenLake-v1\", render_mode=\"ansi\")\n",
    "\n",
    "n_state = env.observation_space.n\n",
    "n_action = env.action_space.n\n",
    "print(n_state, n_action)\n"
   ],
   "id": "2afaa09b205c2d9b",
   "outputs": [
    {
     "name": "stdout",
     "output_type": "stream",
     "text": [
      "16 4\n"
     ]
    }
   ],
   "execution_count": 4
  },
  {
   "metadata": {
    "ExecuteTime": {
     "end_time": "2024-12-21T06:44:48.176848Z",
     "start_time": "2024-12-21T06:44:48.155155Z"
    }
   },
   "cell_type": "code",
   "source": [
    "env.reset()\n",
    "print(env.render())"
   ],
   "id": "23d0e43cc5cd9f97",
   "outputs": [
    {
     "name": "stdout",
     "output_type": "stream",
     "text": [
      "\n",
      "\u001B[41mS\u001B[0mFFF\n",
      "FHFH\n",
      "FFFH\n",
      "HFFG\n",
      "\n"
     ]
    }
   ],
   "execution_count": 5
  },
  {
   "metadata": {
    "ExecuteTime": {
     "end_time": "2024-12-21T06:30:45.246677Z",
     "start_time": "2024-12-21T06:30:45.172499Z"
    }
   },
   "cell_type": "code",
   "source": [
    "new_state, reward, is_truncated, is_done, info = env.step(1)\n",
    "print(env.render())\n"
   ],
   "id": "d25f4834ad49135a",
   "outputs": [
    {
     "name": "stdout",
     "output_type": "stream",
     "text": [
      "  (Down)\n",
      "\u001B[41mS\u001B[0mFFF\n",
      "FHFH\n",
      "FFFH\n",
      "HFFG\n",
      "\n"
     ]
    }
   ],
   "execution_count": 18
  },
  {
   "metadata": {
    "ExecuteTime": {
     "end_time": "2024-12-21T06:47:45.127974Z",
     "start_time": "2024-12-21T06:47:45.113096Z"
    }
   },
   "cell_type": "code",
   "source": [
    "def run_episode(env: gym.Env, policy):\n",
    "    state, _ = env.reset()\n",
    "    episode_reward = 0\n",
    "    while True:\n",
    "        action = policy[state].item()\n",
    "        state, reward, is_truncated, is_done, info = env.step(action)\n",
    "        episode_reward += reward\n",
    "        if is_done or is_truncated:\n",
    "            break\n",
    "    return episode_reward"
   ],
   "id": "87f19006d9b7d2dd",
   "outputs": [],
   "execution_count": 11
  },
  {
   "metadata": {
    "ExecuteTime": {
     "end_time": "2024-12-21T06:47:46.478612Z",
     "start_time": "2024-12-21T06:47:46.216693Z"
    }
   },
   "cell_type": "code",
   "source": [
    "n_episode = 1000\n",
    "\n",
    "total_rewards = []\n",
    "for episode in range(n_episode):\n",
    "    random_policy = torch.randint(high=n_action, size=(n_state,))\n",
    "    total_reward = run_episode(env, random_policy)\n",
    "    total_rewards.append(total_reward)\n",
    "\n",
    "print('Average total reward under random policy: {}'.format(sum(total_rewards) / n_episode))\n"
   ],
   "id": "1d331d189713244e",
   "outputs": [
    {
     "name": "stdout",
     "output_type": "stream",
     "text": [
      "Average total reward under random policy: 0.014\n"
     ]
    }
   ],
   "execution_count": 12
  },
  {
   "metadata": {
    "ExecuteTime": {
     "end_time": "2024-12-21T06:48:44.481803Z",
     "start_time": "2024-12-21T06:48:44.472785Z"
    }
   },
   "cell_type": "code",
   "source": "print(env.unwrapped.P[6])\n",
   "id": "2471b5842f479384",
   "outputs": [
    {
     "name": "stdout",
     "output_type": "stream",
     "text": [
      "{0: [(0.3333333333333333, 2, 0.0, False), (0.3333333333333333, 5, 0.0, True), (0.3333333333333333, 10, 0.0, False)], 1: [(0.3333333333333333, 5, 0.0, True), (0.3333333333333333, 10, 0.0, False), (0.3333333333333333, 7, 0.0, True)], 2: [(0.3333333333333333, 10, 0.0, False), (0.3333333333333333, 7, 0.0, True), (0.3333333333333333, 2, 0.0, False)], 3: [(0.3333333333333333, 7, 0.0, True), (0.3333333333333333, 2, 0.0, False), (0.3333333333333333, 5, 0.0, True)]}\n"
     ]
    }
   ],
   "execution_count": 14
  },
  {
   "metadata": {},
   "cell_type": "code",
   "outputs": [],
   "execution_count": null,
   "source": "",
   "id": "6db9c0055e0fd36a"
  }
 ],
 "metadata": {
  "kernelspec": {
   "display_name": "Python 3",
   "language": "python",
   "name": "python3"
  },
  "language_info": {
   "codemirror_mode": {
    "name": "ipython",
    "version": 2
   },
   "file_extension": ".py",
   "mimetype": "text/x-python",
   "name": "python",
   "nbconvert_exporter": "python",
   "pygments_lexer": "ipython2",
   "version": "2.7.6"
  }
 },
 "nbformat": 4,
 "nbformat_minor": 5
}
