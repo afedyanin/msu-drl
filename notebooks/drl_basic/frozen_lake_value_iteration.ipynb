{
 "cells": [
  {
   "cell_type": "code",
   "id": "initial_id",
   "metadata": {
    "collapsed": true
   },
   "source": [
    "import gymnasium as gym\n",
    "import torch"
   ],
   "outputs": [],
   "execution_count": null
  },
  {
   "metadata": {},
   "cell_type": "code",
   "source": [
    "env = gym.make(\"FrozenLake-v1\", render_mode=\"ansi\")\n",
    "\n",
    "n_state = env.observation_space.n\n",
    "n_action = env.action_space.n\n"
   ],
   "id": "a6ec5a3ec1da31a1",
   "outputs": [],
   "execution_count": null
  },
  {
   "metadata": {},
   "cell_type": "code",
   "source": [
    "state, _ = env.reset()\n",
    "print(env.render())"
   ],
   "id": "7f8ab06fbcc13141",
   "outputs": [],
   "execution_count": null
  },
  {
   "metadata": {},
   "cell_type": "code",
   "source": [
    "gamma = 0.99\n",
    "threshold = 0.0001"
   ],
   "id": "f0093588f21130",
   "outputs": [],
   "execution_count": null
  },
  {
   "metadata": {},
   "cell_type": "code",
   "source": [
    "\n",
    "V_res = torch.zeros(n_state)\n",
    "\n",
    "for state in range(n_state):\n",
    "    v_actions = torch.zeros(n_action)\n",
    "    for action in range(n_action):\n",
    "        for trans_prob, new_state, reward, _ in env.unwrapped.P[state][action]:\n",
    "            #print(f\"state={state}, action={action}, new_state={new_state} trans_prob={trans_prob},  reward={reward}\")\n",
    "            v_actions[action] += trans_prob * (reward + gamma * V_res[new_state])\n",
    "    #print(f'state={state} v_actions={v_actions} max={torch.max(v_actions)} ')"
   ],
   "id": "b2438544baa1fc70",
   "outputs": [],
   "execution_count": null
  },
  {
   "metadata": {},
   "cell_type": "code",
   "source": [
    "def value_iteration(env: gym.Env, gamma, threshold):\n",
    "    \"\"\"\n",
    "    Solve a given environment with value iteration algorithm\n",
    "    @param env: OpenAI Gym environment\n",
    "    @param gamma: discount factor\n",
    "    @param threshold: the evaluation will stop once values for all states are less than the threshold\n",
    "    @return: values of the optimal policy for the given environment\n",
    "    \"\"\"\n",
    "    n_state = env.observation_space.n\n",
    "    n_action = env.action_space.n\n",
    "    V = torch.zeros(n_state)\n",
    "    while True:\n",
    "        V_temp = torch.empty(n_state)\n",
    "        for state in range(n_state):\n",
    "            v_actions = torch.zeros(n_action)\n",
    "            for action in range(n_action):\n",
    "                for trans_prob, new_state, reward, _ in env.unwrapped.P[state][action]:\n",
    "                    # Суммируем все переходы из state в new_state\n",
    "                    v_actions[action] += trans_prob * (reward + gamma * V[new_state])\n",
    "            # находим action с максимальным значением - это будет оптимальное значение ценности для state        \n",
    "            V_temp[state] = torch.max(v_actions)\n",
    "        # контроль сходимости к оптимальному значению\n",
    "        max_delta = torch.max(torch.abs(V - V_temp))\n",
    "        V = V_temp.clone()\n",
    "        if max_delta <= threshold:\n",
    "            break\n",
    "    return V\n"
   ],
   "id": "662130fc92464e61",
   "outputs": [],
   "execution_count": null
  },
  {
   "metadata": {},
   "cell_type": "code",
   "source": [
    "V_optimal = value_iteration(env, gamma, threshold)\n",
    "print('Optimal values:\\n{}'.format(V_optimal))\n"
   ],
   "id": "f6f42694c0f2f33f",
   "outputs": [],
   "execution_count": null
  },
  {
   "metadata": {},
   "cell_type": "code",
   "source": [
    "def extract_optimal_policy(env: gym.Env, V_optimal, gamma):\n",
    "    \"\"\"\n",
    "    Obtain the optimal policy based on the optimal values\n",
    "    @param env: OpenAI Gym environment\n",
    "    @param V_optimal: optimal values\n",
    "    @param gamma: discount factor\n",
    "    @return: optimal policy\n",
    "    \"\"\"\n",
    "    n_state = env.observation_space.n\n",
    "    n_action = env.action_space.n\n",
    "    optimal_policy = torch.zeros(n_state)\n",
    "    for state in range(n_state):\n",
    "        v_actions = torch.zeros(n_action)\n",
    "        for action in range(n_action):\n",
    "            for trans_prob, new_state, reward, _ in env.unwrapped.P[state][action]:\n",
    "                v_actions[action] += trans_prob * (reward + gamma * V_optimal[new_state])\n",
    "        optimal_policy[state] = torch.argmax(v_actions)\n",
    "    return optimal_policy\n"
   ],
   "id": "fde567bc139c84bb",
   "outputs": [],
   "execution_count": null
  },
  {
   "metadata": {},
   "cell_type": "code",
   "source": [
    "optimal_policy = extract_optimal_policy(env, V_optimal, gamma)\n",
    "print('Optimal policy:\\n{}'.format(optimal_policy))\n"
   ],
   "id": "9986eba39e1c9adc",
   "outputs": [],
   "execution_count": null
  },
  {
   "metadata": {},
   "cell_type": "code",
   "source": [
    "def run_episode(env: gym.Env, policy):\n",
    "    state, _ = env.reset()\n",
    "    episode_reward = 0\n",
    "    while True:\n",
    "        action = policy[state].item()\n",
    "        state, reward, is_truncated, is_done, info = env.step(action)\n",
    "        episode_reward += reward\n",
    "        if is_done or is_truncated:\n",
    "            break\n",
    "    return episode_reward"
   ],
   "id": "839f997424e72f9f",
   "outputs": [],
   "execution_count": null
  },
  {
   "metadata": {},
   "cell_type": "code",
   "source": [
    "n_episode = 1000\n",
    "total_rewards = []\n",
    "for episode in range(n_episode):\n",
    "    total_reward = run_episode(env, optimal_policy)\n",
    "    total_rewards.append(total_reward)\n",
    "\n",
    "print('Average total reward under the optimal policy: {}'.format(sum(total_rewards) / n_episode))\n",
    "\n"
   ],
   "id": "9298ea923e6d9120",
   "outputs": [],
   "execution_count": null
  },
  {
   "metadata": {},
   "cell_type": "code",
   "source": "",
   "id": "9f085ffdf405d39c",
   "outputs": [],
   "execution_count": null
  }
 ],
 "metadata": {
  "kernelspec": {
   "display_name": "Python 3",
   "language": "python",
   "name": "python3"
  },
  "language_info": {
   "codemirror_mode": {
    "name": "ipython",
    "version": 2
   },
   "file_extension": ".py",
   "mimetype": "text/x-python",
   "name": "python",
   "nbconvert_exporter": "python",
   "pygments_lexer": "ipython2",
   "version": "2.7.6"
  }
 },
 "nbformat": 4,
 "nbformat_minor": 5
}
