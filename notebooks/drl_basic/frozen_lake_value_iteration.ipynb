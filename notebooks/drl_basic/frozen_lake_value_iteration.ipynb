{
 "cells": [
  {
   "cell_type": "code",
   "id": "initial_id",
   "metadata": {
    "collapsed": true,
    "ExecuteTime": {
     "end_time": "2024-12-21T07:04:43.718885Z",
     "start_time": "2024-12-21T07:04:43.709360Z"
    }
   },
   "source": [
    "import gymnasium as gym\n",
    "import torch"
   ],
   "outputs": [],
   "execution_count": 3
  },
  {
   "metadata": {
    "ExecuteTime": {
     "end_time": "2024-12-21T07:04:45.424682Z",
     "start_time": "2024-12-21T07:04:45.403124Z"
    }
   },
   "cell_type": "code",
   "source": [
    "env = gym.make(\"FrozenLake-v1\", render_mode=\"ansi\")\n",
    "\n",
    "n_state = env.observation_space.n\n",
    "n_action = env.action_space.n\n"
   ],
   "id": "a6ec5a3ec1da31a1",
   "outputs": [],
   "execution_count": 4
  },
  {
   "metadata": {
    "ExecuteTime": {
     "end_time": "2024-12-21T07:05:07.944840Z",
     "start_time": "2024-12-21T07:05:07.936114Z"
    }
   },
   "cell_type": "code",
   "source": [
    "state, _ = env.reset()\n",
    "print(env.render())"
   ],
   "id": "7f8ab06fbcc13141",
   "outputs": [
    {
     "name": "stdout",
     "output_type": "stream",
     "text": [
      "\n",
      "\u001B[41mS\u001B[0mFFF\n",
      "FHFH\n",
      "FFFH\n",
      "HFFG\n",
      "\n"
     ]
    }
   ],
   "execution_count": 6
  },
  {
   "metadata": {
    "ExecuteTime": {
     "end_time": "2024-12-21T08:46:37.647668Z",
     "start_time": "2024-12-21T08:46:37.644847Z"
    }
   },
   "cell_type": "code",
   "source": [
    "gamma = 0.99\n",
    "threshold = 0.0001"
   ],
   "id": "f0093588f21130",
   "outputs": [],
   "execution_count": 13
  },
  {
   "metadata": {
    "ExecuteTime": {
     "end_time": "2024-12-21T08:41:11.155534Z",
     "start_time": "2024-12-21T08:41:11.132197Z"
    }
   },
   "cell_type": "code",
   "source": [
    "\n",
    "V_res = torch.zeros(n_state)\n",
    "\n",
    "for state in range(n_state):\n",
    "    v_actions = torch.zeros(n_action)\n",
    "    for action in range(n_action):\n",
    "        for trans_prob, new_state, reward, _ in env.unwrapped.P[state][action]:\n",
    "            #print(f\"state={state}, action={action}, new_state={new_state} trans_prob={trans_prob},  reward={reward}\")\n",
    "            v_actions[action] += trans_prob * (reward + gamma * V_res[new_state])\n",
    "    #print(f'state={state} v_actions={v_actions} max={torch.max(v_actions)} ')"
   ],
   "id": "b2438544baa1fc70",
   "outputs": [
    {
     "name": "stdout",
     "output_type": "stream",
     "text": [
      "state=0 v_actions=tensor([0., 0., 0., 0.]) max=0.0 \n",
      "state=1 v_actions=tensor([0., 0., 0., 0.]) max=0.0 \n",
      "state=2 v_actions=tensor([0., 0., 0., 0.]) max=0.0 \n",
      "state=3 v_actions=tensor([0., 0., 0., 0.]) max=0.0 \n",
      "state=4 v_actions=tensor([0., 0., 0., 0.]) max=0.0 \n",
      "state=5 v_actions=tensor([0., 0., 0., 0.]) max=0.0 \n",
      "state=6 v_actions=tensor([0., 0., 0., 0.]) max=0.0 \n",
      "state=7 v_actions=tensor([0., 0., 0., 0.]) max=0.0 \n",
      "state=8 v_actions=tensor([0., 0., 0., 0.]) max=0.0 \n",
      "state=9 v_actions=tensor([0., 0., 0., 0.]) max=0.0 \n",
      "state=10 v_actions=tensor([0., 0., 0., 0.]) max=0.0 \n",
      "state=11 v_actions=tensor([0., 0., 0., 0.]) max=0.0 \n",
      "state=12 v_actions=tensor([0., 0., 0., 0.]) max=0.0 \n",
      "state=13 v_actions=tensor([0., 0., 0., 0.]) max=0.0 \n",
      "state=14 v_actions=tensor([0.0000, 0.3333, 0.3333, 0.3333]) max=0.3333333432674408 \n",
      "state=15 v_actions=tensor([0., 0., 0., 0.]) max=0.0 \n"
     ]
    }
   ],
   "execution_count": 12
  },
  {
   "metadata": {
    "ExecuteTime": {
     "end_time": "2024-12-21T08:46:43.387558Z",
     "start_time": "2024-12-21T08:46:43.383028Z"
    }
   },
   "cell_type": "code",
   "source": [
    "def value_iteration(env: gym.Env, gamma, threshold):\n",
    "    \"\"\"\n",
    "    Solve a given environment with value iteration algorithm\n",
    "    @param env: OpenAI Gym environment\n",
    "    @param gamma: discount factor\n",
    "    @param threshold: the evaluation will stop once values for all states are less than the threshold\n",
    "    @return: values of the optimal policy for the given environment\n",
    "    \"\"\"\n",
    "    n_state = env.observation_space.n\n",
    "    n_action = env.action_space.n\n",
    "    V = torch.zeros(n_state)\n",
    "    while True:\n",
    "        V_temp = torch.empty(n_state)\n",
    "        for state in range(n_state):\n",
    "            v_actions = torch.zeros(n_action)\n",
    "            for action in range(n_action):\n",
    "                for trans_prob, new_state, reward, _ in env.unwrapped.P[state][action]:\n",
    "                    v_actions[action] += trans_prob * (reward + gamma * V[new_state])\n",
    "            V_temp[state] = torch.max(v_actions)\n",
    "        max_delta = torch.max(torch.abs(V - V_temp))\n",
    "        V = V_temp.clone()\n",
    "        if max_delta <= threshold:\n",
    "            break\n",
    "    return V\n"
   ],
   "id": "662130fc92464e61",
   "outputs": [],
   "execution_count": 14
  },
  {
   "metadata": {
    "ExecuteTime": {
     "end_time": "2024-12-21T08:46:47.284507Z",
     "start_time": "2024-12-21T08:46:46.547626Z"
    }
   },
   "cell_type": "code",
   "source": [
    "V_optimal = value_iteration(env, gamma, threshold)\n",
    "print('Optimal values:\\n{}'.format(V_optimal))\n"
   ],
   "id": "f6f42694c0f2f33f",
   "outputs": [
    {
     "name": "stdout",
     "output_type": "stream",
     "text": [
      "Optimal values:\n",
      "tensor([0.5404, 0.4966, 0.4681, 0.4541, 0.5569, 0.0000, 0.3572, 0.0000, 0.5905,\n",
      "        0.6421, 0.6144, 0.0000, 0.0000, 0.7410, 0.8625, 0.0000])\n"
     ]
    }
   ],
   "execution_count": 15
  },
  {
   "metadata": {},
   "cell_type": "code",
   "outputs": [],
   "execution_count": null,
   "source": "",
   "id": "fde567bc139c84bb"
  }
 ],
 "metadata": {
  "kernelspec": {
   "display_name": "Python 3",
   "language": "python",
   "name": "python3"
  },
  "language_info": {
   "codemirror_mode": {
    "name": "ipython",
    "version": 2
   },
   "file_extension": ".py",
   "mimetype": "text/x-python",
   "name": "python",
   "nbconvert_exporter": "python",
   "pygments_lexer": "ipython2",
   "version": "2.7.6"
  }
 },
 "nbformat": 4,
 "nbformat_minor": 5
}
